{
 "cells": [
  {
   "cell_type": "code",
   "execution_count": 1,
   "id": "37708f3f",
   "metadata": {
    "ExecuteTime": {
     "end_time": "2021-12-10T11:36:28.017275Z",
     "start_time": "2021-12-10T11:36:28.011952Z"
    }
   },
   "outputs": [],
   "source": [
    "# from pymeasure.instruments.keithley import Keithley2450\n",
    "import numpy as np\n",
    "import pandas as pd\n",
    "from time import sleep\n",
    "import matplotlib.pyplot as plt\n",
    "import matplotlib.ticker as ticker\n",
    "from tqdm import tqdm\n",
    "import pyvisa"
   ]
  },
  {
   "cell_type": "markdown",
   "id": "bfc20770",
   "metadata": {},
   "source": [
    "## Connection"
   ]
  },
  {
   "cell_type": "code",
   "execution_count": 5,
   "id": "6dfffadd",
   "metadata": {
    "ExecuteTime": {
     "end_time": "2021-12-10T11:37:19.794692Z",
     "start_time": "2021-12-10T11:37:19.789364Z"
    }
   },
   "outputs": [],
   "source": [
    "PLOTS_PATH = 'plots/'"
   ]
  },
  {
   "cell_type": "code",
   "execution_count": 2,
   "id": "4695e5fa",
   "metadata": {
    "ExecuteTime": {
     "end_time": "2021-12-10T14:12:12.135263Z",
     "start_time": "2021-12-10T14:12:11.379686Z"
    },
    "scrolled": true
   },
   "outputs": [
    {
     "data": {
      "text/plain": [
       "('USB0::0x05E6::0x2450::04505744::INSTR',\n",
       " 'ASRL1::INSTR',\n",
       " 'ASRL3::INSTR',\n",
       " 'ASRL4::INSTR')"
      ]
     },
     "execution_count": 2,
     "metadata": {},
     "output_type": "execute_result"
    }
   ],
   "source": [
    "rm = pyvisa.ResourceManager()\n",
    "rm.list_resources()"
   ]
  },
  {
   "cell_type": "code",
   "execution_count": 3,
   "id": "e27c12bd",
   "metadata": {},
   "outputs": [],
   "source": [
    "address = 'USB0::0x05E6::0x2450::04505744::INSTR'"
   ]
  },
  {
   "cell_type": "code",
   "execution_count": 11,
   "id": "b6348ad5",
   "metadata": {},
   "outputs": [],
   "source": [
    "inst = rm.open_resource(address)"
   ]
  },
  {
   "cell_type": "code",
   "execution_count": 5,
   "id": "81db3d30",
   "metadata": {},
   "outputs": [
    {
     "data": {
      "text/plain": [
       "17"
      ]
     },
     "execution_count": 5,
     "metadata": {},
     "output_type": "execute_result"
    }
   ],
   "source": [
    "# inst.write(\"loadscript CellTest\")\n",
    "# inst.write('function sweepconfig(range_v, min_v, max_v, num)')\n",
    "# inst.write('reset()')\n",
    "# inst.write('smu.measure.func = smu.FUNC_DC_CURRENT')\n",
    "# inst.write('smu.source.func = smu.FUNC_DC_VOLTAGE')\n",
    "# inst.write('smu.terminals = smu.TERMINALS_FRONT')\n",
    "# inst.write('smu.measure.sense = smu.SENSE_4WIRE')\n",
    "# inst.write('smu.measure.autorange = smu.ON')\n",
    "# inst.write('smu.measure.nplc = 1')\n",
    "# inst.write('smu.source.highc = smu.OFF')\n",
    "# inst.write('smu.source.range = range_v')\n",
    "# inst.write('smu.source.readback = smu.ON')\n",
    "# inst.write('smu.source.ilimit.level = 1')\n",
    "# inst.write('smu.source.sweeplinear(\"SolarCell\", min_v, max_v, num, 0.1)')\n",
    "# inst.write(\"end\")\n",
    "# inst.write('function triggerprocess()')\n",
    "# inst.write('trigger.model.initiate()')\n",
    "# inst.write('waitcomplete()')\n",
    "# inst.write('printbuffer(1, defbuffer1.n, defbuffer1.sourcevalues, defbuffer1.readings)')\n",
    "# inst.write(\"end\")\n",
    "# inst.write(\"endscript\")\n",
    "# inst.write(\"CellTest.save()\") # Save the script, DiodeTest, into nonvolatile memory\n"
   ]
  },
  {
   "cell_type": "code",
   "execution_count": 6,
   "id": "98a7aed1",
   "metadata": {},
   "outputs": [
    {
     "data": {
      "text/plain": [
       "19"
      ]
     },
     "execution_count": 6,
     "metadata": {},
     "output_type": "execute_result"
    }
   ],
   "source": [
    "inst.write(\"CellTest.delete()\")"
   ]
  },
  {
   "cell_type": "code",
   "execution_count": 7,
   "id": "2d68da0e",
   "metadata": {},
   "outputs": [
    {
     "data": {
      "text/plain": [
       "12"
      ]
     },
     "execution_count": 7,
     "metadata": {},
     "output_type": "execute_result"
    }
   ],
   "source": [
    "inst.write(\"CellTest()\")"
   ]
  },
  {
   "cell_type": "code",
   "execution_count": 8,
   "id": "ed57c95c",
   "metadata": {},
   "outputs": [],
   "source": [
    "min_voltage = 0\n",
    "max_voltage = 3\n",
    "range_v = max(abs(min_voltage), abs(max_voltage))\n",
    "num = 10\n",
    "\n",
    "inst.timeout = 10000\n",
    "inst.write(\"sweepconfig(\"\n",
    "           +str(range_v)+', '\n",
    "           +str(min_voltage)+', '\n",
    "           +str(max_voltage)+', '\n",
    "           +str(num)+\")\")\n",
    "buffer = inst.query(\"triggerprocess()\")"
   ]
  },
  {
   "cell_type": "code",
   "execution_count": 14,
   "id": "354299d0",
   "metadata": {},
   "outputs": [],
   "source": [
    "results = np.fromstring(buffer, dtype=float, sep=',').reshape(-1, 2)"
   ]
  },
  {
   "cell_type": "code",
   "execution_count": 15,
   "id": "3b963f9b",
   "metadata": {},
   "outputs": [],
   "source": [
    "df = pd.DataFrame(columns=['Voltage (V)',\n",
    "                           'Current (A)'],\n",
    "                          data=results)"
   ]
  },
  {
   "cell_type": "code",
   "execution_count": 16,
   "id": "7f238e8b",
   "metadata": {},
   "outputs": [
    {
     "data": {
      "text/html": [
       "<div>\n",
       "<style scoped>\n",
       "    .dataframe tbody tr th:only-of-type {\n",
       "        vertical-align: middle;\n",
       "    }\n",
       "\n",
       "    .dataframe tbody tr th {\n",
       "        vertical-align: top;\n",
       "    }\n",
       "\n",
       "    .dataframe thead th {\n",
       "        text-align: right;\n",
       "    }\n",
       "</style>\n",
       "<table border=\"1\" class=\"dataframe\">\n",
       "  <thead>\n",
       "    <tr style=\"text-align: right;\">\n",
       "      <th></th>\n",
       "      <th>Voltage (V)</th>\n",
       "      <th>Current (A)</th>\n",
       "    </tr>\n",
       "  </thead>\n",
       "  <tbody>\n",
       "    <tr>\n",
       "      <th>0</th>\n",
       "      <td>-0.000229</td>\n",
       "      <td>1.687244e-11</td>\n",
       "    </tr>\n",
       "    <tr>\n",
       "      <th>1</th>\n",
       "      <td>0.333296</td>\n",
       "      <td>-2.332013e-11</td>\n",
       "    </tr>\n",
       "    <tr>\n",
       "      <th>2</th>\n",
       "      <td>0.666450</td>\n",
       "      <td>-1.302851e-11</td>\n",
       "    </tr>\n",
       "    <tr>\n",
       "      <th>3</th>\n",
       "      <td>0.999932</td>\n",
       "      <td>-3.855850e-11</td>\n",
       "    </tr>\n",
       "    <tr>\n",
       "      <th>4</th>\n",
       "      <td>1.333443</td>\n",
       "      <td>-5.137320e-11</td>\n",
       "    </tr>\n",
       "    <tr>\n",
       "      <th>5</th>\n",
       "      <td>1.666625</td>\n",
       "      <td>-1.227705e-10</td>\n",
       "    </tr>\n",
       "    <tr>\n",
       "      <th>6</th>\n",
       "      <td>1.999989</td>\n",
       "      <td>-9.506873e-11</td>\n",
       "    </tr>\n",
       "    <tr>\n",
       "      <th>7</th>\n",
       "      <td>2.333672</td>\n",
       "      <td>-6.565145e-11</td>\n",
       "    </tr>\n",
       "    <tr>\n",
       "      <th>8</th>\n",
       "      <td>2.666705</td>\n",
       "      <td>-8.591192e-11</td>\n",
       "    </tr>\n",
       "    <tr>\n",
       "      <th>9</th>\n",
       "      <td>3.000064</td>\n",
       "      <td>-1.552260e-10</td>\n",
       "    </tr>\n",
       "  </tbody>\n",
       "</table>\n",
       "</div>"
      ],
      "text/plain": [
       "   Voltage (V)   Current (A)\n",
       "0    -0.000229  1.687244e-11\n",
       "1     0.333296 -2.332013e-11\n",
       "2     0.666450 -1.302851e-11\n",
       "3     0.999932 -3.855850e-11\n",
       "4     1.333443 -5.137320e-11\n",
       "5     1.666625 -1.227705e-10\n",
       "6     1.999989 -9.506873e-11\n",
       "7     2.333672 -6.565145e-11\n",
       "8     2.666705 -8.591192e-11\n",
       "9     3.000064 -1.552260e-10"
      ]
     },
     "execution_count": 16,
     "metadata": {},
     "output_type": "execute_result"
    }
   ],
   "source": [
    "df"
   ]
  },
  {
   "cell_type": "code",
   "execution_count": null,
   "id": "31c1636f",
   "metadata": {},
   "outputs": [],
   "source": []
  },
  {
   "cell_type": "code",
   "execution_count": null,
   "id": "342e5af8",
   "metadata": {},
   "outputs": [],
   "source": []
  },
  {
   "cell_type": "code",
   "execution_count": 2,
   "id": "04fd8bca",
   "metadata": {
    "ExecuteTime": {
     "end_time": "2021-12-10T14:12:14.792729Z",
     "start_time": "2021-12-10T14:12:14.220203Z"
    }
   },
   "outputs": [],
   "source": [
    "sourcemeter = Keithley2450('USB0::0x05E6::0x2450::04505744::INSTR')"
   ]
  },
  {
   "cell_type": "code",
   "execution_count": 8,
   "id": "aaf058d4",
   "metadata": {
    "ExecuteTime": {
     "end_time": "2021-12-10T11:43:00.804736Z",
     "start_time": "2021-12-10T11:42:58.795777Z"
    }
   },
   "outputs": [],
   "source": [
    "sourcemeter.beep(1000, 1)\n",
    "# sourcemeter.triad(1000, 1)"
   ]
  },
  {
   "cell_type": "markdown",
   "id": "08c601a9",
   "metadata": {},
   "source": [
    "## Sweep function"
   ]
  },
  {
   "cell_type": "code",
   "execution_count": 9,
   "id": "1dc44d67",
   "metadata": {
    "ExecuteTime": {
     "end_time": "2021-12-10T13:09:51.048412Z",
     "start_time": "2021-12-10T13:09:51.036003Z"
    }
   },
   "outputs": [],
   "source": [
    "def sweep(data_points, min_voltage, max_voltage, timeout):\n",
    "    sourcemeter.write(\"*RST\")\n",
    "    sourcemeter.write(\"SENS:FUNC 'CURR'\")\n",
    "    sourcemeter.write(\"SENS:CURR:RANG:AUTO ON\")\n",
    "    sourcemeter.write(\"SOUR:FUNC VOLT\")\n",
    "    sourcemeter.write(\"SOUR:VOLT:RANG {}\"\n",
    "                      .format(max(abs(min_voltage), \n",
    "                                  abs(max_voltage))))\n",
    "    sourcemeter.write(\"SOUR:VOLT:ILIM 1\")\n",
    "    sourcemeter.write(\"SOUR:SWE:VOLT:LIN {}, {}, {}, {}\"\n",
    "                      .format(min_voltage, max_voltage,\n",
    "                              data_points, timeout))\n",
    "    sourcemeter.write(\":INIT\")\n",
    "    sourcemeter.write(\"*WAI\")\n",
    "    \n",
    "    for i in tqdm(range(data_points)):\n",
    "        sleep(2 * timeout)\n",
    "    \n",
    "    sleep(1)\n",
    "        \n",
    "#     sourcemeter.shutdown()\n",
    "#     return pd.DataFrame(columns=['Voltage (V)',\n",
    "#                                  'Current (A)'],\n",
    "#                         data=results)"
   ]
  },
  {
   "cell_type": "code",
   "execution_count": 4,
   "id": "fa815e0f",
   "metadata": {
    "ExecuteTime": {
     "end_time": "2021-12-10T14:12:51.914072Z",
     "start_time": "2021-12-10T14:12:51.908466Z"
    }
   },
   "outputs": [],
   "source": [
    "samplename='TEST'\n",
    "data_points = 10\n",
    "max_voltage = 5\n",
    "min_voltage = -5\n",
    "timeout = 0.1"
   ]
  },
  {
   "cell_type": "code",
   "execution_count": 10,
   "id": "c28ec9ca",
   "metadata": {
    "ExecuteTime": {
     "end_time": "2021-12-10T14:16:09.477564Z",
     "start_time": "2021-12-10T14:15:48.358818Z"
    }
   },
   "outputs": [
    {
     "name": "stderr",
     "output_type": "stream",
     "text": [
      "100%|██████████████████████████████████████████████████████████████████████████████████| 10/10 [00:02<00:00,  4.80it/s]\n"
     ]
    }
   ],
   "source": [
    "sweep(data_points, min_voltage, max_voltage, timeout)"
   ]
  },
  {
   "cell_type": "code",
   "execution_count": 11,
   "id": "03dc2f01",
   "metadata": {
    "ExecuteTime": {
     "end_time": "2021-12-10T14:16:10.767787Z",
     "start_time": "2021-12-10T14:16:10.749870Z"
    }
   },
   "outputs": [],
   "source": [
    "results = np.array(sourcemeter\n",
    "                       .values(\"TRAC:DATA? 1, {}, 'defbuffer1', SOUR, READ\"\n",
    "                               .format(data_points))\n",
    "                      ).reshape(-1, 2)\n",
    "\n",
    "data = pd.DataFrame(columns=['Voltage (V)',\n",
    "                             'Current (A)'],\n",
    "                    data=results)"
   ]
  },
  {
   "cell_type": "code",
   "execution_count": 22,
   "id": "457ed354",
   "metadata": {},
   "outputs": [
    {
     "ename": "UFuncTypeError",
     "evalue": "ufunc 'multiply' did not contain a loop with signature matching types (dtype('<U32'), dtype('<U32')) -> dtype('<U32')",
     "output_type": "error",
     "traceback": [
      "\u001b[1;31m---------------------------------------------------------------------------\u001b[0m",
      "\u001b[1;31mUFuncTypeError\u001b[0m                            Traceback (most recent call last)",
      "\u001b[1;32m~\\AppData\\Local\\Temp/ipykernel_1924/189179957.py\u001b[0m in \u001b[0;36m<module>\u001b[1;34m\u001b[0m\n\u001b[1;32m----> 1\u001b[1;33m \u001b[0msourcemeter\u001b[0m\u001b[1;33m.\u001b[0m\u001b[0mshutdown\u001b[0m\u001b[1;33m(\u001b[0m\u001b[1;33m)\u001b[0m\u001b[1;33m\u001b[0m\u001b[1;33m\u001b[0m\u001b[0m\n\u001b[0m",
      "\u001b[1;32m~\\anaconda3\\lib\\site-packages\\pymeasure\\instruments\\keithley\\keithley2450.py\u001b[0m in \u001b[0;36mshutdown\u001b[1;34m(self)\u001b[0m\n\u001b[0;32m    646\u001b[0m             \u001b[0mself\u001b[0m\u001b[1;33m.\u001b[0m\u001b[0mramp_to_current\u001b[0m\u001b[1;33m(\u001b[0m\u001b[1;36m0.0\u001b[0m\u001b[1;33m)\u001b[0m\u001b[1;33m\u001b[0m\u001b[1;33m\u001b[0m\u001b[0m\n\u001b[0;32m    647\u001b[0m         \u001b[1;32melse\u001b[0m\u001b[1;33m:\u001b[0m\u001b[1;33m\u001b[0m\u001b[1;33m\u001b[0m\u001b[0m\n\u001b[1;32m--> 648\u001b[1;33m             \u001b[0mself\u001b[0m\u001b[1;33m.\u001b[0m\u001b[0mramp_to_voltage\u001b[0m\u001b[1;33m(\u001b[0m\u001b[1;36m0.0\u001b[0m\u001b[1;33m)\u001b[0m\u001b[1;33m\u001b[0m\u001b[1;33m\u001b[0m\u001b[0m\n\u001b[0m\u001b[0;32m    649\u001b[0m         \u001b[0mself\u001b[0m\u001b[1;33m.\u001b[0m\u001b[0mstop_buffer\u001b[0m\u001b[1;33m(\u001b[0m\u001b[1;33m)\u001b[0m\u001b[1;33m\u001b[0m\u001b[1;33m\u001b[0m\u001b[0m\n\u001b[0;32m    650\u001b[0m         \u001b[0mself\u001b[0m\u001b[1;33m.\u001b[0m\u001b[0mdisable_source\u001b[0m\u001b[1;33m(\u001b[0m\u001b[1;33m)\u001b[0m\u001b[1;33m\u001b[0m\u001b[1;33m\u001b[0m\u001b[0m\n",
      "\u001b[1;32m~\\anaconda3\\lib\\site-packages\\pymeasure\\instruments\\keithley\\keithley2450.py\u001b[0m in \u001b[0;36mramp_to_voltage\u001b[1;34m(self, target_voltage, steps, pause)\u001b[0m\n\u001b[0;32m    555\u001b[0m         \u001b[1;33m:\u001b[0m\u001b[0mparam\u001b[0m \u001b[0mpause\u001b[0m\u001b[1;33m:\u001b[0m \u001b[0mA\u001b[0m \u001b[0mpause\u001b[0m \u001b[0mduration\u001b[0m \u001b[1;32min\u001b[0m \u001b[0mseconds\u001b[0m \u001b[0mto\u001b[0m \u001b[0mwait\u001b[0m \u001b[0mbetween\u001b[0m \u001b[0msteps\u001b[0m\u001b[1;33m\u001b[0m\u001b[1;33m\u001b[0m\u001b[0m\n\u001b[0;32m    556\u001b[0m         \"\"\"\n\u001b[1;32m--> 557\u001b[1;33m         voltages = np.linspace(\n\u001b[0m\u001b[0;32m    558\u001b[0m             \u001b[0mself\u001b[0m\u001b[1;33m.\u001b[0m\u001b[0msource_voltage\u001b[0m\u001b[1;33m,\u001b[0m\u001b[1;33m\u001b[0m\u001b[1;33m\u001b[0m\u001b[0m\n\u001b[0;32m    559\u001b[0m             \u001b[0mtarget_voltage\u001b[0m\u001b[1;33m,\u001b[0m\u001b[1;33m\u001b[0m\u001b[1;33m\u001b[0m\u001b[0m\n",
      "\u001b[1;32m<__array_function__ internals>\u001b[0m in \u001b[0;36mlinspace\u001b[1;34m(*args, **kwargs)\u001b[0m\n",
      "\u001b[1;32m~\\anaconda3\\lib\\site-packages\\numpy\\core\\function_base.py\u001b[0m in \u001b[0;36mlinspace\u001b[1;34m(start, stop, num, endpoint, retstep, dtype, axis)\u001b[0m\n\u001b[0;32m    125\u001b[0m     \u001b[1;31m# Convert float/complex array scalars to float, gh-3504\u001b[0m\u001b[1;33m\u001b[0m\u001b[1;33m\u001b[0m\u001b[0m\n\u001b[0;32m    126\u001b[0m     \u001b[1;31m# and make sure one can use variables that have an __array_interface__, gh-6634\u001b[0m\u001b[1;33m\u001b[0m\u001b[1;33m\u001b[0m\u001b[0m\n\u001b[1;32m--> 127\u001b[1;33m     \u001b[0mstart\u001b[0m \u001b[1;33m=\u001b[0m \u001b[0masanyarray\u001b[0m\u001b[1;33m(\u001b[0m\u001b[0mstart\u001b[0m\u001b[1;33m)\u001b[0m \u001b[1;33m*\u001b[0m \u001b[1;36m1.0\u001b[0m\u001b[1;33m\u001b[0m\u001b[1;33m\u001b[0m\u001b[0m\n\u001b[0m\u001b[0;32m    128\u001b[0m     \u001b[0mstop\u001b[0m  \u001b[1;33m=\u001b[0m \u001b[0masanyarray\u001b[0m\u001b[1;33m(\u001b[0m\u001b[0mstop\u001b[0m\u001b[1;33m)\u001b[0m  \u001b[1;33m*\u001b[0m \u001b[1;36m1.0\u001b[0m\u001b[1;33m\u001b[0m\u001b[1;33m\u001b[0m\u001b[0m\n\u001b[0;32m    129\u001b[0m \u001b[1;33m\u001b[0m\u001b[0m\n",
      "\u001b[1;31mUFuncTypeError\u001b[0m: ufunc 'multiply' did not contain a loop with signature matching types (dtype('<U32'), dtype('<U32')) -> dtype('<U32')"
     ]
    }
   ],
   "source": [
    "sourcemeter.shutdown()"
   ]
  },
  {
   "cell_type": "code",
   "execution_count": 27,
   "id": "5d390d29",
   "metadata": {},
   "outputs": [],
   "source": [
    "results = sourcemeter.values(\"TRAC:DATA? 1, {}, 'defbuffer1', SOUR, READ\"\n",
    "                               .format(data_points))"
   ]
  },
  {
   "cell_type": "code",
   "execution_count": 28,
   "id": "623ef743",
   "metadata": {},
   "outputs": [
    {
     "data": {
      "text/plain": [
       "[-5.103202,\n",
       " -6.619493e-10,\n",
       " -3.889097,\n",
       " -9.898238e-12,\n",
       " -2.886328,\n",
       " 1.190192e-09,\n",
       " -1.666461,\n",
       " -2.713453e-11,\n",
       " -0.6371131,\n",
       " -8.197485e-10,\n",
       " 0.5552976,\n",
       " -1.157041e-11,\n",
       " 1.564913,\n",
       " 7.840849e-10,\n",
       " 2.777991,\n",
       " 1.226518e-10,\n",
       " 3.799834,\n",
       " -4.167882e-11,\n",
       " 4.929435,\n",
       " 8.506653e-10]"
      ]
     },
     "execution_count": 28,
     "metadata": {},
     "output_type": "execute_result"
    }
   ],
   "source": [
    "results"
   ]
  },
  {
   "cell_type": "code",
   "execution_count": 297,
   "id": "6a8bdeed",
   "metadata": {
    "ExecuteTime": {
     "end_time": "2021-12-10T14:16:11.826346Z",
     "start_time": "2021-12-10T14:16:11.821765Z"
    }
   },
   "outputs": [],
   "source": [
    "# light = False\n",
    "light = True"
   ]
  },
  {
   "cell_type": "code",
   "execution_count": 298,
   "id": "7bce86b6",
   "metadata": {
    "ExecuteTime": {
     "end_time": "2021-12-10T14:16:14.027763Z",
     "start_time": "2021-12-10T14:16:14.015523Z"
    }
   },
   "outputs": [
    {
     "name": "stdout",
     "output_type": "stream",
     "text": [
      "UV saved\n"
     ]
    }
   ],
   "source": [
    "if light:\n",
    "    uv = data\n",
    "    uv.to_csv(samplename+'UV.csv', index=False)\n",
    "    print('UV saved')\n",
    "else:\n",
    "    nouv = data\n",
    "    nouv.to_csv(samplename+'NO UV.csv', index=False)\n",
    "    print('No UV saved')"
   ]
  },
  {
   "cell_type": "code",
   "execution_count": 13,
   "id": "3a0b1e52",
   "metadata": {
    "ExecuteTime": {
     "end_time": "2021-12-10T14:16:16.598305Z",
     "start_time": "2021-12-10T14:16:16.398732Z"
    }
   },
   "outputs": [
    {
     "data": {
      "text/plain": [
       "Text(0.5, 1.0, 'I-V plot')"
      ]
     },
     "execution_count": 13,
     "metadata": {},
     "output_type": "execute_result"
    },
    {
     "data": {
      "image/png": "[encoded data removed]",
      "text/plain": [
       "<Figure size 432x288 with 1 Axes>"
      ]
     },
     "metadata": {
      "needs_background": "light"
     },
     "output_type": "display_data"
    }
   ],
   "source": [
    "# data = pd.DataFrame(columns=['Voltage (V)', 'Current (A)'], data=results)\n",
    "# data.to_csv('example.csv', index=False)\n",
    "plt.errorbar(data['Voltage (V)'],\n",
    "             data['Current (A)'],\n",
    "#              yerr=voltage_stds, \n",
    "             fmt='.k')\n",
    "plt.xlabel('Voltage (V)')\n",
    "plt.ylabel('Current (A)')\n",
    "plt.title('I-V plot')"
   ]
  },
  {
   "cell_type": "markdown",
   "id": "70c7d9f0",
   "metadata": {},
   "source": [
    "## I-V Plot Function"
   ]
  },
  {
   "cell_type": "code",
   "execution_count": 108,
   "id": "083f5918",
   "metadata": {
    "ExecuteTime": {
     "end_time": "2021-12-10T13:20:28.907805Z",
     "start_time": "2021-12-10T13:20:28.863282Z"
    },
    "code_folding": [
     0
    ]
   },
   "outputs": [],
   "source": [
    "def ivplot(df1, df2, samplename, scale):\n",
    "#     xmargin = 0.1\n",
    "    a_scale = {'nano': ['nA', 1e9],\n",
    "               'micro': ['μA', 1e6],\n",
    "               'mili': ['mA', 1e3]}\n",
    "    \n",
    "    fig, ax = plt.subplots()\n",
    "    \n",
    "    uv_current = df2['Current (A)']*a_scale[scale][1]\n",
    "    no_uv_current = df1['Current (A)']*a_scale[scale][1]\n",
    "    \n",
    "#     ax.plot(df2['Voltage, V'], uv_current, label='UV ON')\n",
    "#     ax.plot(df1['Voltage, V'], no_uv_current, label='UV OFF')\n",
    "    ax.plot(df1['Voltage (V)'], no_uv_current, label='UV OFF')\n",
    "    ax.plot(df2['Voltage (V)'], uv_current, label='UV ON')\n",
    "\n",
    "    plt.xlim(round(df2['Voltage (V)'].min()), round(df2['Voltage (V)'].max()))\n",
    "#     plt.xlim(0, 5)\n",
    "    ymargin = ((df2['Voltage (V)'].max())/df2['Voltage (V)'].max() - 1)*uv_current.max()\n",
    "    ymargin = round(ymargin, 2)\n",
    "    plt.ylim(uv_current.min()-ymargin, uv_current.max()+ymargin)\n",
    "#     plt.ylim(-10, 10)\n",
    "    ax.xaxis.set_major_locator(ticker.MultipleLocator(1))\n",
    "    ax.xaxis.set_minor_locator(ticker.MultipleLocator(0.5))\n",
    "\n",
    "    plt.title('I-V Of Sample ' + samplename)\n",
    "    plt.xlabel(\"Voltage, V\")\n",
    "    plt.ylabel('Current, ' + a_scale[scale][0])\n",
    "\n",
    "    ax.grid(which='major',\n",
    "            color = 'k')\n",
    "\n",
    "    ax.minorticks_on()\n",
    "\n",
    "    ax.grid(which='minor',\n",
    "            color = 'gray',\n",
    "            linestyle = ':')\n",
    "    \n",
    "    ax.tick_params(axis = 'both',\n",
    "                   which = 'both',\n",
    "                   direction = 'in')\n",
    "\n",
    "    ax.legend()\n",
    "    plt.savefig(PLOTS_PATH + 'I-V' + samplename + '.jpeg', dpi=400)"
   ]
  },
  {
   "cell_type": "code",
   "execution_count": 83,
   "id": "ed543004",
   "metadata": {
    "ExecuteTime": {
     "end_time": "2021-12-10T12:30:52.234043Z",
     "start_time": "2021-12-10T12:30:52.221064Z"
    }
   },
   "outputs": [],
   "source": [
    "# uv = uv[(uv['Voltage (V)']<9) & (uv['Voltage (V)']>-9)]"
   ]
  },
  {
   "cell_type": "code",
   "execution_count": 84,
   "id": "52f59ab8",
   "metadata": {
    "ExecuteTime": {
     "end_time": "2021-12-10T12:30:53.169085Z",
     "start_time": "2021-12-10T12:30:53.162980Z"
    }
   },
   "outputs": [],
   "source": [
    "# nouv = nouv[(nouv['Voltage (V)']<9) & (nouv['Voltage (V)']>-9)]"
   ]
  },
  {
   "cell_type": "code",
   "execution_count": 300,
   "id": "f509dc94",
   "metadata": {
    "ExecuteTime": {
     "end_time": "2021-12-10T14:16:27.083563Z",
     "start_time": "2021-12-10T14:16:26.086237Z"
    }
   },
   "outputs": [
    {
     "data": {
      "image/png": "[encoded data removed]",
      "text/plain": [
       "<Figure size 432x288 with 1 Axes>"
      ]
     },
     "metadata": {
      "needs_background": "light"
     },
     "output_type": "display_data"
    }
   ],
   "source": [
    "ivplot(nouv, uv, samplename=samplename, scale='mili')"
   ]
  },
  {
   "cell_type": "code",
   "execution_count": 51,
   "id": "09d7cfe6",
   "metadata": {},
   "outputs": [],
   "source": [
    "# from io import BytesIO\n",
    "# from pymeasure.instruments.keithley import Keithley2450\n",
    "# from time import sleep\n",
    "# import streamlit as st\n",
    "# import numpy as np\n",
    "# import pandas as pd\n",
    "# import plotly.express as px\n",
    "\n",
    "\n",
    "# @st.cache\n",
    "# def convert_df(df):\n",
    "#     # IMPORTANT: Cache the conversion to prevent computation on every rerun\n",
    "#     return df.to_csv(index=False).encode('utf-8')\n",
    "\n",
    "\n",
    "# @st.cache\n",
    "# def to_excel(df):\n",
    "#     output = BytesIO()\n",
    "#     writer = pd.ExcelWriter(output, engine='xlsxwriter')\n",
    "#     df.to_excel(writer, index=False, sheet_name='Sheet1')\n",
    "#     workbook = writer.book\n",
    "#     worksheet = writer.sheets['Sheet1']\n",
    "#     format1 = workbook.add_format({'num_format': '0.00'})\n",
    "#     worksheet.set_column('A:A', None, format1)\n",
    "#     writer.save()\n",
    "#     processed_data = output.getvalue()\n",
    "#     return processed_data\n",
    "\n",
    "\n",
    "TIMEOUT = 0.1\n",
    "# Setting up instrument\n",
    "# sourcemeter = Keithley2450('USB0::0x05E6::0x2450::04505744::INSTR')\n",
    "\n",
    "\n",
    "# Function that sends sweep to instrument\n",
    "def sweep(data_points, min_voltage, max_voltage, timeout):\n",
    "    sourcemeter.write(\"*RST\")\n",
    "    sourcemeter.write(\"SENS:FUNC 'CURR'\")\n",
    "    sourcemeter.write(\"SENS:CURR:RANG:AUTO ON\")\n",
    "    sourcemeter.write(\"SOUR:FUNC VOLT\")\n",
    "    sourcemeter.write(\"SOUR:VOLT:RANG {}\"\n",
    "                      .format(max(abs(min_voltage),\n",
    "                                  abs(max_voltage))))\n",
    "    sourcemeter.write(\"SOUR:VOLT:ILIM 1\")\n",
    "    sourcemeter.write(\"SOUR:SWE:VOLT:LIN {}, {}, {}, {}\"\n",
    "                      .format(min_voltage, max_voltage,\n",
    "                              data_points, timeout))\n",
    "    sourcemeter.write(\":INIT\")\n",
    "    sourcemeter.write(\"*WAI\")\n",
    "\n",
    "\n",
    "# UI & script body\n",
    "# with st.sidebar.form(key=\"Params\"):\n",
    "#     sample_name = st.text_input(\"Plot Name\", placeholder=\"New Plot\")  # for example: 'Ta#15 3.01nm Meas #2'\n",
    "#     data_points = st.number_input(\"Data points\", min_value=3, max_value=1000, value=10, step=1)\n",
    "#     min_voltage = st.number_input(\"Min Voltage (V)\", min_value=-100.0, max_value=0.0, value=0.0, step=0.1)\n",
    "#     max_voltage = st.number_input(\"Max Voltage (V)\", min_value=0.0, max_value=100.0, value=3.0, step=0.1)\n",
    "#     measure = st.form_submit_button(\"Measure I-V\")\n",
    "\n",
    "# progress_bar = st.sidebar.progress(0)\n",
    "# status_text = st.sidebar.empty()\n",
    "\n",
    "# if measure:\n",
    "sweep(data_points, min_voltage, max_voltage, TIMEOUT)\n",
    "for i in range(data_points):\n",
    "    sleep(11 * TIMEOUT)\n",
    "    percent = int(i / data_points * 97)\n",
    "#     status_text.text(\"%i%% Complete\" % percent)\n",
    "#     progress_bar.progress(percent)\n",
    "\n",
    "try:\n",
    "    results = np.array(sourcemeter\n",
    "                       .values(\"TRAC:DATA? 1, {}, 'defbuffer1', SOUR, READ\"\n",
    "                               .format(data_points))\n",
    "                       ).reshape(-1, 2)\n",
    "    df = pd.DataFrame(columns=['Voltage (V)',\n",
    "                               'Current (A)'],\n",
    "                      data=results)\n",
    "except ValueError:\n",
    "    sleep(5)\n",
    "    results = np.array(sourcemeter\n",
    "                       .values(\"TRAC:DATA? 1, {}, 'defbuffer1', SOUR, READ\"\n",
    "                               .format(data_points))\n",
    "                       ).reshape(-1, 2)\n",
    "    df = pd.DataFrame(columns=['Voltage (V)',\n",
    "                               'Current (A)'],\n",
    "                      data=results)\n",
    "#     status_text.text(\"%i%% Complete\" % 100)\n",
    "#     progress_bar.empty()\n",
    "\n",
    "    # Saves data\n",
    "#     st.session_state['df'] = df\n",
    "\n",
    "# if 'df' in st.session_state:\n",
    "#     # status_text.text(\"%i%% Complete\" % 100)\n",
    "#     # progress_bar.empty()\n",
    "#     filename = 'Untitled'\n",
    "#     if sample_name != '':\n",
    "#         filename = sample_name\n",
    "#     df = st.session_state.df\n",
    "#     fig = px.line(df, x='Voltage (V)', y='Current (A)', markers=True)\n",
    "#     fig.update_layout(title_text=filename, title_x=0.5)\n",
    "#     st.plotly_chart(fig, use_container_width=True)\n",
    "\n",
    "#     csv = convert_df(df)\n",
    "#     st.download_button(\n",
    "#         label=\"Download data as CSV\",\n",
    "#         data=csv,\n",
    "#         file_name=filename + '.csv',\n",
    "#         mime='text/csv',\n",
    "#     )\n",
    "\n",
    "#     xlsx = to_excel(df)\n",
    "#     st.download_button(\n",
    "#         label=\"Download data as XLSX\",\n",
    "#         data=xlsx,\n",
    "#         file_name=filename + '.xlsx'\n",
    "#     )\n",
    "\n",
    "\n",
    "# st.button(\"Re-run\")\n"
   ]
  },
  {
   "cell_type": "code",
   "execution_count": 49,
   "id": "90b5d3cb",
   "metadata": {},
   "outputs": [],
   "source": [
    "results = np.array(sourcemeter\n",
    "                       .values(\"TRAC:DATA? 1, {}, 'defbuffer1', SOUR, READ\"\n",
    "                               .format(data_points))\n",
    "                       ).reshape(-1, 2)"
   ]
  },
  {
   "cell_type": "code",
   "execution_count": 52,
   "id": "effe43e6",
   "metadata": {},
   "outputs": [
    {
     "data": {
      "text/plain": [
       "array([[-5.114069e+00, -1.188098e-09],\n",
       "       [-3.889078e+00, -2.502019e-12],\n",
       "       [-2.866737e+00,  1.215982e-09],\n",
       "       [-1.666438e+00,  5.370945e-11],\n",
       "       [-6.351395e-01, -3.773874e-10],\n",
       "       [ 4.789299e-01,  3.233046e-10],\n",
       "       [ 1.666515e+00,  6.115145e-10],\n",
       "       [ 2.754179e+00, -6.934449e-10],\n",
       "       [ 3.889131e+00, -8.259406e-10],\n",
       "       [ 4.923125e+00,  6.982343e-10]])"
      ]
     },
     "execution_count": 52,
     "metadata": {},
     "output_type": "execute_result"
    }
   ],
   "source": [
    "results"
   ]
  },
  {
   "cell_type": "code",
   "execution_count": null,
   "id": "c8fc22d5",
   "metadata": {},
   "outputs": [],
   "source": []
  }
 ],
 "metadata": {
  "kernelspec": {
   "display_name": "Python 3 (ipykernel)",
   "language": "python",
   "name": "python3"
  },
  "language_info": {
   "codemirror_mode": {
    "name": "ipython",
    "version": 3
   },
   "file_extension": ".py",
   "mimetype": "text/x-python",
   "name": "python",
   "nbconvert_exporter": "python",
   "pygments_lexer": "ipython3",
   "version": "3.9.7"
  },
  "latex_envs": {
   "LaTeX_envs_menu_present": true,
   "autoclose": false,
   "autocomplete": true,
   "bibliofile": "biblio.bib",
   "cite_by": "apalike",
   "current_citInitial": 1,
   "eqLabelWithNumbers": true,
   "eqNumInitial": 1,
   "hotkeys": {
    "equation": "Ctrl-E",
    "itemize": "Ctrl-I"
   },
   "labels_anchors": false,
   "latex_user_defs": false,
   "report_style_numbering": false,
   "user_envs_cfg": false
  },
  "toc": {
   "base_numbering": 1,
   "nav_menu": {},
   "number_sections": true,
   "sideBar": true,
   "skip_h1_title": false,
   "title_cell": "Table of Contents",
   "title_sidebar": "Contents",
   "toc_cell": false,
   "toc_position": {},
   "toc_section_display": true,
   "toc_window_display": false
  }
 },
 "nbformat": 4,
 "nbformat_minor": 5
}
